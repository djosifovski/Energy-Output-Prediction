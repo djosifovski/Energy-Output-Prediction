{
 "cells": [
  {
   "cell_type": "markdown",
   "id": "3c696467",
   "metadata": {},
   "source": [
    "# Predict Electrical Energy Output of Combined Cycle Power Plant\n",
    "## Artificial Neural Network for Regression"
   ]
  },
  {
   "cell_type": "markdown",
   "id": "bc036f06",
   "metadata": {},
   "source": [
    "### Importing the libraries"
   ]
  },
  {
   "cell_type": "code",
   "execution_count": 2,
   "id": "c4a5d8e5",
   "metadata": {},
   "outputs": [],
   "source": [
    "import numpy as np\n",
    "import pandas as pd\n",
    "import tensorflow as tf"
   ]
  },
  {
   "cell_type": "code",
   "execution_count": 3,
   "id": "84d8a310",
   "metadata": {},
   "outputs": [
    {
     "data": {
      "text/plain": [
       "'2.7.0'"
      ]
     },
     "execution_count": 3,
     "metadata": {},
     "output_type": "execute_result"
    }
   ],
   "source": [
    "tf.__version__"
   ]
  },
  {
   "cell_type": "markdown",
   "id": "cbab0726",
   "metadata": {},
   "source": [
    "## Part 1 - Data Preprocessing"
   ]
  },
  {
   "cell_type": "markdown",
   "id": "a2c8be84",
   "metadata": {},
   "source": [
    "### Importing the dataset"
   ]
  },
  {
   "cell_type": "code",
   "execution_count": 6,
   "id": "ea1f43e0",
   "metadata": {},
   "outputs": [
    {
     "data": {
      "text/html": [
       "<div>\n",
       "<style scoped>\n",
       "    .dataframe tbody tr th:only-of-type {\n",
       "        vertical-align: middle;\n",
       "    }\n",
       "\n",
       "    .dataframe tbody tr th {\n",
       "        vertical-align: top;\n",
       "    }\n",
       "\n",
       "    .dataframe thead th {\n",
       "        text-align: right;\n",
       "    }\n",
       "</style>\n",
       "<table border=\"1\" class=\"dataframe\">\n",
       "  <thead>\n",
       "    <tr style=\"text-align: right;\">\n",
       "      <th></th>\n",
       "      <th>AT</th>\n",
       "      <th>V</th>\n",
       "      <th>AP</th>\n",
       "      <th>RH</th>\n",
       "      <th>PE</th>\n",
       "    </tr>\n",
       "  </thead>\n",
       "  <tbody>\n",
       "    <tr>\n",
       "      <th>0</th>\n",
       "      <td>14.96</td>\n",
       "      <td>41.76</td>\n",
       "      <td>1024.07</td>\n",
       "      <td>73.17</td>\n",
       "      <td>463.26</td>\n",
       "    </tr>\n",
       "    <tr>\n",
       "      <th>1</th>\n",
       "      <td>25.18</td>\n",
       "      <td>62.96</td>\n",
       "      <td>1020.04</td>\n",
       "      <td>59.08</td>\n",
       "      <td>444.37</td>\n",
       "    </tr>\n",
       "    <tr>\n",
       "      <th>2</th>\n",
       "      <td>5.11</td>\n",
       "      <td>39.40</td>\n",
       "      <td>1012.16</td>\n",
       "      <td>92.14</td>\n",
       "      <td>488.56</td>\n",
       "    </tr>\n",
       "    <tr>\n",
       "      <th>3</th>\n",
       "      <td>20.86</td>\n",
       "      <td>57.32</td>\n",
       "      <td>1010.24</td>\n",
       "      <td>76.64</td>\n",
       "      <td>446.48</td>\n",
       "    </tr>\n",
       "    <tr>\n",
       "      <th>4</th>\n",
       "      <td>10.82</td>\n",
       "      <td>37.50</td>\n",
       "      <td>1009.23</td>\n",
       "      <td>96.62</td>\n",
       "      <td>473.90</td>\n",
       "    </tr>\n",
       "  </tbody>\n",
       "</table>\n",
       "</div>"
      ],
      "text/plain": [
       "      AT      V       AP     RH      PE\n",
       "0  14.96  41.76  1024.07  73.17  463.26\n",
       "1  25.18  62.96  1020.04  59.08  444.37\n",
       "2   5.11  39.40  1012.16  92.14  488.56\n",
       "3  20.86  57.32  1010.24  76.64  446.48\n",
       "4  10.82  37.50  1009.23  96.62  473.90"
      ]
     },
     "execution_count": 6,
     "metadata": {},
     "output_type": "execute_result"
    }
   ],
   "source": [
    "dataset = pd.read_excel('data/Folds5x2_pp.xlsx')\n",
    "dataset.head()"
   ]
  },
  {
   "cell_type": "code",
   "execution_count": 7,
   "id": "38d0b2f2",
   "metadata": {},
   "outputs": [],
   "source": [
    "X = dataset.iloc[:, :-1].values\n",
    "y = dataset.iloc[:, -1].values"
   ]
  },
  {
   "cell_type": "markdown",
   "id": "50b89c61",
   "metadata": {},
   "source": [
    "### Splitting the dataset into the Training set and Test set"
   ]
  },
  {
   "cell_type": "code",
   "execution_count": 10,
   "id": "2fe604d8",
   "metadata": {},
   "outputs": [],
   "source": [
    "from sklearn.model_selection import train_test_split\n",
    "X_train, X_test, y_train, y_test = train_test_split(X, y, test_size = 0.2, random_state = 0)"
   ]
  },
  {
   "cell_type": "markdown",
   "id": "36cf0582",
   "metadata": {},
   "source": [
    "## Part 2 - Building the ANN"
   ]
  },
  {
   "cell_type": "markdown",
   "id": "79010cc9",
   "metadata": {},
   "source": [
    "### Initializing the ANN"
   ]
  },
  {
   "cell_type": "code",
   "execution_count": 11,
   "id": "6653caaf",
   "metadata": {},
   "outputs": [],
   "source": [
    "ann = tf.keras.models.Sequential()"
   ]
  },
  {
   "cell_type": "markdown",
   "id": "4984caa1",
   "metadata": {},
   "source": [
    "### Adding the input layer and the first hidden layer"
   ]
  },
  {
   "cell_type": "code",
   "execution_count": 14,
   "id": "61aa3c38",
   "metadata": {},
   "outputs": [],
   "source": [
    "ann.add(tf.keras.layers.Dense(units=6, activation='relu'))"
   ]
  },
  {
   "cell_type": "markdown",
   "id": "4c26331c",
   "metadata": {},
   "source": [
    "**NOTE:** `Dense` class:\n",
    "```python\n",
    "tf.keras.layers.Dense(\n",
    "    units,\n",
    "    activation=None,\n",
    "    use_bias=True,\n",
    "    kernel_initializer=\"glorot_uniform\",\n",
    "    bias_initializer=\"zeros\",\n",
    "    kernel_regularizer=None,\n",
    "    bias_regularizer=None,\n",
    "    activity_regularizer=None,\n",
    "    kernel_constraint=None,\n",
    "    bias_constraint=None,\n",
    "    **kwargs\n",
    ")\n",
    "```\n",
    "The `Dense` class is just a densely-connected NN layer.\n",
    "\n",
    "`Dense` implements the operation: `output = activation(dot(input, kernel) + bias)` where `activation` is the element-wise activation function passed as the `activation` argument, `kernel` is a weights matrix created by the layer, and `bias` is a bias vector created by the layer (only applicable if `use_bias` is `True`). These are all attributes of `Dense`.\n",
    "\n",
    "More info: https://keras.io/api/layers/core_layers/dense/."
   ]
  },
  {
   "cell_type": "markdown",
   "id": "6f0d948a",
   "metadata": {},
   "source": [
    "### Adding the second hidden layer"
   ]
  },
  {
   "cell_type": "code",
   "execution_count": 15,
   "id": "296b9fbd",
   "metadata": {},
   "outputs": [],
   "source": [
    "ann.add(tf.keras.layers.Dense(units=6, activation='relu'))"
   ]
  },
  {
   "cell_type": "markdown",
   "id": "636b90ef",
   "metadata": {},
   "source": [
    "### Adding the output layer"
   ]
  },
  {
   "cell_type": "code",
   "execution_count": 17,
   "id": "6baaf644",
   "metadata": {},
   "outputs": [],
   "source": [
    "ann.add(tf.keras.layers.Dense(units=1))"
   ]
  },
  {
   "cell_type": "markdown",
   "id": "770aff8f",
   "metadata": {},
   "source": [
    "## Part 3 - Training the ANN"
   ]
  },
  {
   "cell_type": "markdown",
   "id": "49af61b3",
   "metadata": {},
   "source": [
    "### Compiling the ANN"
   ]
  },
  {
   "cell_type": "code",
   "execution_count": 18,
   "id": "3b482594",
   "metadata": {},
   "outputs": [],
   "source": [
    "ann.compile(optimizer='adam', loss='mean_squared_error')"
   ]
  },
  {
   "cell_type": "markdown",
   "id": "a819c534",
   "metadata": {},
   "source": [
    "### Training the ANN model on the Training set"
   ]
  },
  {
   "cell_type": "code",
   "execution_count": 19,
   "id": "bc5e76b1",
   "metadata": {},
   "outputs": [
    {
     "name": "stdout",
     "output_type": "stream",
     "text": [
      "Epoch 1/100\n",
      "240/240 [==============================] - 2s 2ms/step - loss: 57.0541\n",
      "Epoch 2/100\n",
      "240/240 [==============================] - 1s 2ms/step - loss: 44.1408\n",
      "Epoch 3/100\n",
      "240/240 [==============================] - 0s 2ms/step - loss: 38.4064\n",
      "Epoch 4/100\n",
      "240/240 [==============================] - 1s 2ms/step - loss: 35.1831\n",
      "Epoch 5/100\n",
      "240/240 [==============================] - 0s 2ms/step - loss: 34.0613\n",
      "Epoch 6/100\n",
      "240/240 [==============================] - 0s 2ms/step - loss: 32.7922\n",
      "Epoch 7/100\n",
      "240/240 [==============================] - 1s 2ms/step - loss: 32.5038\n",
      "Epoch 8/100\n",
      "240/240 [==============================] - 1s 2ms/step - loss: 30.9122\n",
      "Epoch 9/100\n",
      "240/240 [==============================] - 1s 2ms/step - loss: 31.1204\n",
      "Epoch 10/100\n",
      "240/240 [==============================] - 1s 2ms/step - loss: 30.4528\n",
      "Epoch 11/100\n",
      "240/240 [==============================] - 1s 2ms/step - loss: 30.0728\n",
      "Epoch 12/100\n",
      "240/240 [==============================] - 1s 2ms/step - loss: 29.1450\n",
      "Epoch 13/100\n",
      "240/240 [==============================] - 1s 2ms/step - loss: 29.1894\n",
      "Epoch 14/100\n",
      "240/240 [==============================] - 1s 2ms/step - loss: 28.9864\n",
      "Epoch 15/100\n",
      "240/240 [==============================] - 1s 2ms/step - loss: 28.7447\n",
      "Epoch 16/100\n",
      "240/240 [==============================] - 1s 2ms/step - loss: 28.8273\n",
      "Epoch 17/100\n",
      "240/240 [==============================] - 1s 2ms/step - loss: 28.6484\n",
      "Epoch 18/100\n",
      "240/240 [==============================] - 1s 2ms/step - loss: 28.4031\n",
      "Epoch 19/100\n",
      "240/240 [==============================] - 1s 2ms/step - loss: 27.5875\n",
      "Epoch 20/100\n",
      "240/240 [==============================] - 1s 2ms/step - loss: 27.9497\n",
      "Epoch 21/100\n",
      "240/240 [==============================] - 1s 2ms/step - loss: 27.9226\n",
      "Epoch 22/100\n",
      "240/240 [==============================] - 1s 2ms/step - loss: 27.3438\n",
      "Epoch 23/100\n",
      "240/240 [==============================] - 1s 2ms/step - loss: 27.4418\n",
      "Epoch 24/100\n",
      "240/240 [==============================] - 1s 2ms/step - loss: 27.4663\n",
      "Epoch 25/100\n",
      "240/240 [==============================] - 1s 2ms/step - loss: 27.5119\n",
      "Epoch 26/100\n",
      "240/240 [==============================] - 1s 2ms/step - loss: 27.4297\n",
      "Epoch 27/100\n",
      "240/240 [==============================] - 1s 2ms/step - loss: 26.8289\n",
      "Epoch 28/100\n",
      "240/240 [==============================] - 0s 2ms/step - loss: 27.3610\n",
      "Epoch 29/100\n",
      "240/240 [==============================] - 0s 2ms/step - loss: 26.7855\n",
      "Epoch 30/100\n",
      "240/240 [==============================] - 0s 2ms/step - loss: 27.0872\n",
      "Epoch 31/100\n",
      "240/240 [==============================] - 0s 2ms/step - loss: 27.4014\n",
      "Epoch 32/100\n",
      "240/240 [==============================] - 0s 2ms/step - loss: 26.6568\n",
      "Epoch 33/100\n",
      "240/240 [==============================] - 0s 2ms/step - loss: 26.6810\n",
      "Epoch 34/100\n",
      "240/240 [==============================] - 0s 2ms/step - loss: 27.3973\n",
      "Epoch 35/100\n",
      "240/240 [==============================] - 0s 2ms/step - loss: 27.4689\n",
      "Epoch 36/100\n",
      "240/240 [==============================] - 0s 2ms/step - loss: 27.0269\n",
      "Epoch 37/100\n",
      "240/240 [==============================] - 0s 2ms/step - loss: 26.7004\n",
      "Epoch 38/100\n",
      "240/240 [==============================] - 0s 2ms/step - loss: 26.8009\n",
      "Epoch 39/100\n",
      "240/240 [==============================] - 1s 2ms/step - loss: 26.7635\n",
      "Epoch 40/100\n",
      "240/240 [==============================] - 0s 2ms/step - loss: 27.4017\n",
      "Epoch 41/100\n",
      "240/240 [==============================] - 0s 2ms/step - loss: 26.7586\n",
      "Epoch 42/100\n",
      "240/240 [==============================] - 0s 2ms/step - loss: 27.3789\n",
      "Epoch 43/100\n",
      "240/240 [==============================] - 0s 2ms/step - loss: 27.0607\n",
      "Epoch 44/100\n",
      "240/240 [==============================] - 0s 2ms/step - loss: 27.0209\n",
      "Epoch 45/100\n",
      "240/240 [==============================] - 0s 2ms/step - loss: 27.2132\n",
      "Epoch 46/100\n",
      "240/240 [==============================] - 1s 2ms/step - loss: 27.0092\n",
      "Epoch 47/100\n",
      "240/240 [==============================] - 1s 3ms/step - loss: 26.8419\n",
      "Epoch 48/100\n",
      "240/240 [==============================] - 1s 2ms/step - loss: 26.7818\n",
      "Epoch 49/100\n",
      "240/240 [==============================] - 1s 2ms/step - loss: 26.8686\n",
      "Epoch 50/100\n",
      "240/240 [==============================] - 1s 2ms/step - loss: 27.1150\n",
      "Epoch 51/100\n",
      "240/240 [==============================] - 1s 2ms/step - loss: 26.8407\n",
      "Epoch 52/100\n",
      "240/240 [==============================] - 1s 2ms/step - loss: 26.6748\n",
      "Epoch 53/100\n",
      "240/240 [==============================] - 1s 2ms/step - loss: 26.8411\n",
      "Epoch 54/100\n",
      "240/240 [==============================] - 1s 2ms/step - loss: 26.8199\n",
      "Epoch 55/100\n",
      "240/240 [==============================] - 1s 2ms/step - loss: 26.6073\n",
      "Epoch 56/100\n",
      "240/240 [==============================] - 1s 2ms/step - loss: 26.9790\n",
      "Epoch 57/100\n",
      "240/240 [==============================] - 1s 2ms/step - loss: 27.6084\n",
      "Epoch 58/100\n",
      "240/240 [==============================] - 1s 3ms/step - loss: 26.7412\n",
      "Epoch 59/100\n",
      "240/240 [==============================] - 1s 2ms/step - loss: 26.9163\n",
      "Epoch 60/100\n",
      "240/240 [==============================] - 1s 2ms/step - loss: 26.3955\n",
      "Epoch 61/100\n",
      "240/240 [==============================] - 1s 2ms/step - loss: 27.1253\n",
      "Epoch 62/100\n",
      "240/240 [==============================] - 1s 2ms/step - loss: 27.4959\n",
      "Epoch 63/100\n",
      "240/240 [==============================] - 1s 2ms/step - loss: 27.1879\n",
      "Epoch 64/100\n",
      "240/240 [==============================] - 1s 3ms/step - loss: 26.9613\n",
      "Epoch 65/100\n",
      "240/240 [==============================] - 1s 2ms/step - loss: 26.9023\n",
      "Epoch 66/100\n",
      "240/240 [==============================] - 1s 2ms/step - loss: 26.5561\n",
      "Epoch 67/100\n",
      "240/240 [==============================] - 1s 2ms/step - loss: 26.4866\n",
      "Epoch 68/100\n",
      "240/240 [==============================] - 1s 2ms/step - loss: 27.2957\n",
      "Epoch 69/100\n",
      "240/240 [==============================] - 1s 2ms/step - loss: 26.4240\n",
      "Epoch 70/100\n",
      "240/240 [==============================] - 1s 2ms/step - loss: 27.0735\n",
      "Epoch 71/100\n",
      "240/240 [==============================] - 1s 2ms/step - loss: 27.3638\n",
      "Epoch 72/100\n",
      "240/240 [==============================] - 0s 2ms/step - loss: 26.6274\n",
      "Epoch 73/100\n",
      "240/240 [==============================] - 1s 2ms/step - loss: 26.9634\n",
      "Epoch 74/100\n",
      "240/240 [==============================] - 0s 2ms/step - loss: 26.6230\n",
      "Epoch 75/100\n",
      "240/240 [==============================] - 0s 2ms/step - loss: 26.6750\n",
      "Epoch 76/100\n",
      "240/240 [==============================] - 1s 3ms/step - loss: 27.5852\n",
      "Epoch 77/100\n",
      "240/240 [==============================] - 1s 2ms/step - loss: 26.7913\n",
      "Epoch 78/100\n",
      "240/240 [==============================] - 1s 3ms/step - loss: 26.7964\n",
      "Epoch 79/100\n",
      "240/240 [==============================] - 1s 2ms/step - loss: 26.9158\n",
      "Epoch 80/100\n",
      "240/240 [==============================] - 1s 3ms/step - loss: 26.6441\n",
      "Epoch 81/100\n",
      "240/240 [==============================] - 1s 2ms/step - loss: 26.8506\n",
      "Epoch 82/100\n",
      "240/240 [==============================] - 1s 2ms/step - loss: 26.2847\n",
      "Epoch 83/100\n",
      "240/240 [==============================] - 1s 3ms/step - loss: 26.8308\n",
      "Epoch 84/100\n",
      "240/240 [==============================] - 1s 2ms/step - loss: 26.9525\n",
      "Epoch 85/100\n",
      "240/240 [==============================] - 1s 2ms/step - loss: 26.9506\n",
      "Epoch 86/100\n",
      "240/240 [==============================] - 1s 2ms/step - loss: 26.6668\n",
      "Epoch 87/100\n",
      "240/240 [==============================] - 1s 2ms/step - loss: 26.6392\n",
      "Epoch 88/100\n",
      "240/240 [==============================] - 1s 2ms/step - loss: 27.1980\n",
      "Epoch 89/100\n",
      "240/240 [==============================] - 0s 2ms/step - loss: 26.9373\n",
      "Epoch 90/100\n",
      "240/240 [==============================] - 0s 2ms/step - loss: 26.6422\n",
      "Epoch 91/100\n",
      "240/240 [==============================] - 0s 2ms/step - loss: 26.8063\n",
      "Epoch 92/100\n",
      "240/240 [==============================] - 0s 2ms/step - loss: 27.0694\n",
      "Epoch 93/100\n",
      "240/240 [==============================] - 0s 2ms/step - loss: 27.2254\n",
      "Epoch 94/100\n",
      "240/240 [==============================] - 0s 2ms/step - loss: 26.8860\n",
      "Epoch 95/100\n",
      "240/240 [==============================] - 0s 2ms/step - loss: 26.6914\n",
      "Epoch 96/100\n",
      "240/240 [==============================] - 0s 2ms/step - loss: 26.6833\n",
      "Epoch 97/100\n",
      "240/240 [==============================] - 0s 2ms/step - loss: 26.9538\n",
      "Epoch 98/100\n"
     ]
    },
    {
     "name": "stdout",
     "output_type": "stream",
     "text": [
      "240/240 [==============================] - 0s 2ms/step - loss: 26.7523\n",
      "Epoch 99/100\n",
      "240/240 [==============================] - 0s 2ms/step - loss: 27.0079\n",
      "Epoch 100/100\n",
      "240/240 [==============================] - 0s 2ms/step - loss: 27.6849\n"
     ]
    },
    {
     "data": {
      "text/plain": [
       "<keras.callbacks.History at 0x26ba4a634f0>"
      ]
     },
     "execution_count": 19,
     "metadata": {},
     "output_type": "execute_result"
    }
   ],
   "source": [
    "ann.fit(X_train, y_train, batch_size=32, epochs=100)"
   ]
  },
  {
   "cell_type": "markdown",
   "id": "a358d9fa",
   "metadata": {},
   "source": [
    "### Predicting the results of the Test set"
   ]
  },
  {
   "cell_type": "code",
   "execution_count": 20,
   "id": "31871315",
   "metadata": {},
   "outputs": [],
   "source": [
    "y_pred = ann.predict(X_test)"
   ]
  },
  {
   "cell_type": "markdown",
   "id": "dd41810b",
   "metadata": {},
   "source": [
    "**References:**\n",
    "- Data set source: https://archive.ics.uci.edu/ml/datasets/combined+cycle+power+plant# (2021-12-17)\n",
    "- From Udemy course: Artificial Neural Network for Regression ()"
   ]
  },
  {
   "cell_type": "code",
   "execution_count": null,
   "id": "c204a145",
   "metadata": {},
   "outputs": [],
   "source": []
  }
 ],
 "metadata": {
  "kernelspec": {
   "display_name": "Python 3 (ipykernel)",
   "language": "python",
   "name": "python3"
  },
  "language_info": {
   "codemirror_mode": {
    "name": "ipython",
    "version": 3
   },
   "file_extension": ".py",
   "mimetype": "text/x-python",
   "name": "python",
   "nbconvert_exporter": "python",
   "pygments_lexer": "ipython3",
   "version": "3.9.7"
  }
 },
 "nbformat": 4,
 "nbformat_minor": 5
}
