{
 "cells": [
  {
   "cell_type": "markdown",
   "id": "6e5a5e04",
   "metadata": {},
   "source": [
    "# Predict Electrical Energy Output of Combined Cycle Power Plant\n",
    "## Artificial Neural Network for Regression"
   ]
  },
  {
   "cell_type": "markdown",
   "id": "49833698",
   "metadata": {},
   "source": [
    "### Importing the libraries"
   ]
  },
  {
   "cell_type": "code",
   "execution_count": 1,
   "id": "7507bb22",
   "metadata": {},
   "outputs": [],
   "source": [
    "import numpy as np\n",
    "import pandas as pd\n",
    "import tensorflow as tf"
   ]
  },
  {
   "cell_type": "code",
   "execution_count": 2,
   "id": "0ffb86d7",
   "metadata": {},
   "outputs": [
    {
     "data": {
      "text/plain": [
       "'2.7.0'"
      ]
     },
     "execution_count": 2,
     "metadata": {},
     "output_type": "execute_result"
    }
   ],
   "source": [
    "tf.__version__"
   ]
  },
  {
   "cell_type": "markdown",
   "id": "39c15fac",
   "metadata": {},
   "source": [
    "## Part 1 - Data Preprocessing"
   ]
  },
  {
   "cell_type": "markdown",
   "id": "3c23244c",
   "metadata": {},
   "source": [
    "### Importing the dataset"
   ]
  },
  {
   "cell_type": "code",
   "execution_count": 3,
   "id": "74da6792",
   "metadata": {},
   "outputs": [
    {
     "data": {
      "text/html": [
       "<div>\n",
       "<style scoped>\n",
       "    .dataframe tbody tr th:only-of-type {\n",
       "        vertical-align: middle;\n",
       "    }\n",
       "\n",
       "    .dataframe tbody tr th {\n",
       "        vertical-align: top;\n",
       "    }\n",
       "\n",
       "    .dataframe thead th {\n",
       "        text-align: right;\n",
       "    }\n",
       "</style>\n",
       "<table border=\"1\" class=\"dataframe\">\n",
       "  <thead>\n",
       "    <tr style=\"text-align: right;\">\n",
       "      <th></th>\n",
       "      <th>AT</th>\n",
       "      <th>V</th>\n",
       "      <th>AP</th>\n",
       "      <th>RH</th>\n",
       "      <th>PE</th>\n",
       "    </tr>\n",
       "  </thead>\n",
       "  <tbody>\n",
       "    <tr>\n",
       "      <th>0</th>\n",
       "      <td>14.96</td>\n",
       "      <td>41.76</td>\n",
       "      <td>1024.07</td>\n",
       "      <td>73.17</td>\n",
       "      <td>463.26</td>\n",
       "    </tr>\n",
       "    <tr>\n",
       "      <th>1</th>\n",
       "      <td>25.18</td>\n",
       "      <td>62.96</td>\n",
       "      <td>1020.04</td>\n",
       "      <td>59.08</td>\n",
       "      <td>444.37</td>\n",
       "    </tr>\n",
       "    <tr>\n",
       "      <th>2</th>\n",
       "      <td>5.11</td>\n",
       "      <td>39.40</td>\n",
       "      <td>1012.16</td>\n",
       "      <td>92.14</td>\n",
       "      <td>488.56</td>\n",
       "    </tr>\n",
       "    <tr>\n",
       "      <th>3</th>\n",
       "      <td>20.86</td>\n",
       "      <td>57.32</td>\n",
       "      <td>1010.24</td>\n",
       "      <td>76.64</td>\n",
       "      <td>446.48</td>\n",
       "    </tr>\n",
       "    <tr>\n",
       "      <th>4</th>\n",
       "      <td>10.82</td>\n",
       "      <td>37.50</td>\n",
       "      <td>1009.23</td>\n",
       "      <td>96.62</td>\n",
       "      <td>473.90</td>\n",
       "    </tr>\n",
       "  </tbody>\n",
       "</table>\n",
       "</div>"
      ],
      "text/plain": [
       "      AT      V       AP     RH      PE\n",
       "0  14.96  41.76  1024.07  73.17  463.26\n",
       "1  25.18  62.96  1020.04  59.08  444.37\n",
       "2   5.11  39.40  1012.16  92.14  488.56\n",
       "3  20.86  57.32  1010.24  76.64  446.48\n",
       "4  10.82  37.50  1009.23  96.62  473.90"
      ]
     },
     "execution_count": 3,
     "metadata": {},
     "output_type": "execute_result"
    }
   ],
   "source": [
    "dataset = pd.read_excel('data/Folds5x2_pp.xlsx')\n",
    "dataset.head()"
   ]
  },
  {
   "cell_type": "code",
   "execution_count": 4,
   "id": "d82eecda",
   "metadata": {},
   "outputs": [],
   "source": [
    "X = dataset.iloc[:, :-1].values\n",
    "y = dataset.iloc[:, -1].values"
   ]
  },
  {
   "cell_type": "markdown",
   "id": "1ee7f39b",
   "metadata": {},
   "source": [
    "### Splitting the dataset into the Training set and Test set"
   ]
  },
  {
   "cell_type": "code",
   "execution_count": 5,
   "id": "063e3139",
   "metadata": {},
   "outputs": [],
   "source": [
    "from sklearn.model_selection import train_test_split\n",
    "X_train, X_test, y_train, y_test = train_test_split(X, y, test_size = 0.2, random_state = 0)"
   ]
  },
  {
   "cell_type": "markdown",
   "id": "5f549c82",
   "metadata": {},
   "source": [
    "## Part 2 - Building the ANN"
   ]
  },
  {
   "cell_type": "markdown",
   "id": "b5ed0428",
   "metadata": {},
   "source": [
    "### Initializing the ANN"
   ]
  },
  {
   "cell_type": "code",
   "execution_count": 6,
   "id": "d0e4cf03",
   "metadata": {},
   "outputs": [],
   "source": [
    "ann = tf.keras.models.Sequential()"
   ]
  },
  {
   "cell_type": "markdown",
   "id": "119bd3dd",
   "metadata": {},
   "source": [
    "### Adding the input layer and the first hidden layer"
   ]
  },
  {
   "cell_type": "code",
   "execution_count": 7,
   "id": "f0aceeef",
   "metadata": {},
   "outputs": [],
   "source": [
    "ann.add(tf.keras.layers.Dense(units=6, activation='relu'))"
   ]
  },
  {
   "cell_type": "markdown",
   "id": "4ff5d2c7",
   "metadata": {},
   "source": [
    "**NOTE:** `Dense` class:\n",
    "```python\n",
    "tf.keras.layers.Dense(\n",
    "    units,\n",
    "    activation=None,\n",
    "    use_bias=True,\n",
    "    kernel_initializer=\"glorot_uniform\",\n",
    "    bias_initializer=\"zeros\",\n",
    "    kernel_regularizer=None,\n",
    "    bias_regularizer=None,\n",
    "    activity_regularizer=None,\n",
    "    kernel_constraint=None,\n",
    "    bias_constraint=None,\n",
    "    **kwargs\n",
    ")\n",
    "```\n",
    "The `Dense` class is just a densely-connected NN layer.\n",
    "\n",
    "`Dense` implements the operation: `output = activation(dot(input, kernel) + bias)` where `activation` is the element-wise activation function passed as the `activation` argument, `kernel` is a weights matrix created by the layer, and `bias` is a bias vector created by the layer (only applicable if `use_bias` is `True`). These are all attributes of `Dense`.\n",
    "\n",
    "More info: https://keras.io/api/layers/core_layers/dense/."
   ]
  },
  {
   "cell_type": "markdown",
   "id": "834e8b95",
   "metadata": {},
   "source": [
    "### Adding the second hidden layer"
   ]
  },
  {
   "cell_type": "code",
   "execution_count": 8,
   "id": "ac5b771b",
   "metadata": {},
   "outputs": [],
   "source": [
    "ann.add(tf.keras.layers.Dense(units=6, activation='relu'))"
   ]
  },
  {
   "cell_type": "markdown",
   "id": "53c6c996",
   "metadata": {},
   "source": [
    "### Adding the output layer"
   ]
  },
  {
   "cell_type": "code",
   "execution_count": 9,
   "id": "19d90a70",
   "metadata": {},
   "outputs": [],
   "source": [
    "ann.add(tf.keras.layers.Dense(units=1))"
   ]
  },
  {
   "cell_type": "markdown",
   "id": "a2a21f34",
   "metadata": {},
   "source": [
    "## Part 3 - Training the ANN"
   ]
  },
  {
   "cell_type": "markdown",
   "id": "e0007cac",
   "metadata": {},
   "source": [
    "### Compiling the ANN"
   ]
  },
  {
   "cell_type": "code",
   "execution_count": 10,
   "id": "77df872c",
   "metadata": {},
   "outputs": [],
   "source": [
    "ann.compile(optimizer='adam', loss='mean_squared_error')"
   ]
  },
  {
   "cell_type": "markdown",
   "id": "4984931e",
   "metadata": {},
   "source": [
    "### Training the ANN model on the Training set"
   ]
  },
  {
   "cell_type": "code",
   "execution_count": 11,
   "id": "8d6e1786",
   "metadata": {},
   "outputs": [
    {
     "name": "stdout",
     "output_type": "stream",
     "text": [
      "Epoch 1/100\n",
      "240/240 [==============================] - 1s 2ms/step - loss: 337847.5938\n",
      "Epoch 2/100\n",
      "240/240 [==============================] - 0s 2ms/step - loss: 206413.0469\n",
      "Epoch 3/100\n",
      "240/240 [==============================] - 0s 2ms/step - loss: 206219.6875\n",
      "Epoch 4/100\n",
      "240/240 [==============================] - 0s 2ms/step - loss: 206017.2031\n",
      "Epoch 5/100\n",
      "240/240 [==============================] - 0s 2ms/step - loss: 205809.8125\n",
      "Epoch 6/100\n",
      "240/240 [==============================] - 0s 2ms/step - loss: 205599.6250\n",
      "Epoch 7/100\n",
      "240/240 [==============================] - 0s 2ms/step - loss: 205387.6250\n",
      "Epoch 8/100\n",
      "240/240 [==============================] - 0s 2ms/step - loss: 205174.5469\n",
      "Epoch 9/100\n",
      "240/240 [==============================] - 0s 2ms/step - loss: 204960.5312\n",
      "Epoch 10/100\n",
      "240/240 [==============================] - 0s 2ms/step - loss: 204746.0312\n",
      "Epoch 11/100\n",
      "240/240 [==============================] - 0s 2ms/step - loss: 204531.1406\n",
      "Epoch 12/100\n",
      "240/240 [==============================] - 0s 2ms/step - loss: 204315.9062\n",
      "Epoch 13/100\n",
      "240/240 [==============================] - 0s 2ms/step - loss: 204100.6719\n",
      "Epoch 14/100\n",
      "240/240 [==============================] - 0s 2ms/step - loss: 203885.2656\n",
      "Epoch 15/100\n",
      "240/240 [==============================] - 1s 2ms/step - loss: 203669.8438\n",
      "Epoch 16/100\n",
      "240/240 [==============================] - 0s 2ms/step - loss: 203454.2500\n",
      "Epoch 17/100\n",
      "240/240 [==============================] - 0s 2ms/step - loss: 203238.6875\n",
      "Epoch 18/100\n",
      "240/240 [==============================] - 0s 2ms/step - loss: 203023.2969\n",
      "Epoch 19/100\n",
      "240/240 [==============================] - 1s 2ms/step - loss: 202807.8594\n",
      "Epoch 20/100\n",
      "240/240 [==============================] - 1s 2ms/step - loss: 202592.5000\n",
      "Epoch 21/100\n",
      "240/240 [==============================] - 1s 2ms/step - loss: 202377.2969\n",
      "Epoch 22/100\n",
      "240/240 [==============================] - 0s 2ms/step - loss: 202162.0469\n",
      "Epoch 23/100\n",
      "240/240 [==============================] - 0s 2ms/step - loss: 201947.0625\n",
      "Epoch 24/100\n",
      "240/240 [==============================] - 0s 2ms/step - loss: 201732.1406\n",
      "Epoch 25/100\n",
      "240/240 [==============================] - 1s 2ms/step - loss: 201517.2344\n",
      "Epoch 26/100\n",
      "240/240 [==============================] - 0s 2ms/step - loss: 201302.5469\n",
      "Epoch 27/100\n",
      "240/240 [==============================] - 0s 2ms/step - loss: 201087.9531\n",
      "Epoch 28/100\n",
      "240/240 [==============================] - 0s 2ms/step - loss: 200873.4219\n",
      "Epoch 29/100\n",
      "240/240 [==============================] - 0s 2ms/step - loss: 200658.9531\n",
      "Epoch 30/100\n",
      "240/240 [==============================] - 0s 2ms/step - loss: 200444.6094\n",
      "Epoch 31/100\n",
      "240/240 [==============================] - 0s 2ms/step - loss: 200230.4062\n",
      "Epoch 32/100\n",
      "240/240 [==============================] - 1s 2ms/step - loss: 200016.2656\n",
      "Epoch 33/100\n",
      "240/240 [==============================] - 0s 2ms/step - loss: 199802.3750\n",
      "Epoch 34/100\n",
      "240/240 [==============================] - 0s 2ms/step - loss: 199588.5312\n",
      "Epoch 35/100\n",
      "240/240 [==============================] - 0s 2ms/step - loss: 199374.8281\n",
      "Epoch 36/100\n",
      "240/240 [==============================] - 0s 2ms/step - loss: 199161.2031\n",
      "Epoch 37/100\n",
      "240/240 [==============================] - 0s 2ms/step - loss: 198947.6094\n",
      "Epoch 38/100\n",
      "240/240 [==============================] - 0s 2ms/step - loss: 198734.2188\n",
      "Epoch 39/100\n",
      "240/240 [==============================] - 0s 2ms/step - loss: 198520.9375\n",
      "Epoch 40/100\n",
      "240/240 [==============================] - 0s 2ms/step - loss: 198307.7656\n",
      "Epoch 41/100\n",
      "240/240 [==============================] - 0s 2ms/step - loss: 198094.7500\n",
      "Epoch 42/100\n",
      "240/240 [==============================] - 0s 2ms/step - loss: 197881.7969\n",
      "Epoch 43/100\n",
      "240/240 [==============================] - 1s 2ms/step - loss: 197668.9531\n",
      "Epoch 44/100\n",
      "240/240 [==============================] - 0s 2ms/step - loss: 197456.1406\n",
      "Epoch 45/100\n",
      "240/240 [==============================] - 0s 2ms/step - loss: 197243.6250\n",
      "Epoch 46/100\n",
      "240/240 [==============================] - 0s 2ms/step - loss: 197031.1250\n",
      "Epoch 47/100\n",
      "240/240 [==============================] - 0s 2ms/step - loss: 196818.6562\n",
      "Epoch 48/100\n",
      "240/240 [==============================] - 1s 2ms/step - loss: 196606.4375\n",
      "Epoch 49/100\n",
      "240/240 [==============================] - 1s 2ms/step - loss: 196394.4062\n",
      "Epoch 50/100\n",
      "240/240 [==============================] - 0s 2ms/step - loss: 196182.2188\n",
      "Epoch 51/100\n",
      "240/240 [==============================] - 0s 2ms/step - loss: 195970.4688\n",
      "Epoch 52/100\n",
      "240/240 [==============================] - 0s 2ms/step - loss: 195758.6250\n",
      "Epoch 53/100\n",
      "240/240 [==============================] - 1s 2ms/step - loss: 195546.9375\n",
      "Epoch 54/100\n",
      "240/240 [==============================] - 1s 2ms/step - loss: 195335.2656\n",
      "Epoch 55/100\n",
      "240/240 [==============================] - 1s 2ms/step - loss: 195123.8750\n",
      "Epoch 56/100\n",
      "240/240 [==============================] - 1s 2ms/step - loss: 194912.5469\n",
      "Epoch 57/100\n",
      "240/240 [==============================] - 0s 2ms/step - loss: 194701.2812\n",
      "Epoch 58/100\n",
      "240/240 [==============================] - 0s 2ms/step - loss: 194490.2500\n",
      "Epoch 59/100\n",
      "240/240 [==============================] - 0s 2ms/step - loss: 194279.1875\n",
      "Epoch 60/100\n",
      "240/240 [==============================] - 0s 2ms/step - loss: 194068.5312\n",
      "Epoch 61/100\n",
      "240/240 [==============================] - 0s 2ms/step - loss: 193857.5938: 0s - loss: 19378\n",
      "Epoch 62/100\n",
      "240/240 [==============================] - 0s 2ms/step - loss: 193647.0469\n",
      "Epoch 63/100\n",
      "240/240 [==============================] - 0s 2ms/step - loss: 193436.4688\n",
      "Epoch 64/100\n",
      "240/240 [==============================] - 0s 2ms/step - loss: 193226.0781\n",
      "Epoch 65/100\n",
      "240/240 [==============================] - 0s 2ms/step - loss: 193015.8125\n",
      "Epoch 66/100\n",
      "240/240 [==============================] - 0s 2ms/step - loss: 192805.6250\n",
      "Epoch 67/100\n",
      "240/240 [==============================] - 0s 2ms/step - loss: 192595.5469\n",
      "Epoch 68/100\n",
      "240/240 [==============================] - 0s 2ms/step - loss: 192385.5781\n",
      "Epoch 69/100\n",
      "240/240 [==============================] - 0s 2ms/step - loss: 192175.7500\n",
      "Epoch 70/100\n",
      "240/240 [==============================] - 0s 2ms/step - loss: 191965.9688\n",
      "Epoch 71/100\n",
      "240/240 [==============================] - 0s 2ms/step - loss: 191756.4531\n",
      "Epoch 72/100\n",
      "240/240 [==============================] - 1s 2ms/step - loss: 191546.9531\n",
      "Epoch 73/100\n",
      "240/240 [==============================] - 1s 2ms/step - loss: 191337.4844\n",
      "Epoch 74/100\n",
      "240/240 [==============================] - 1s 3ms/step - loss: 191128.2500\n",
      "Epoch 75/100\n",
      "240/240 [==============================] - 1s 2ms/step - loss: 190919.0625\n",
      "Epoch 76/100\n",
      "240/240 [==============================] - 1s 2ms/step - loss: 190710.0625\n",
      "Epoch 77/100\n",
      "240/240 [==============================] - 0s 2ms/step - loss: 190501.1406\n",
      "Epoch 78/100\n",
      "240/240 [==============================] - 1s 2ms/step - loss: 190292.3906\n",
      "Epoch 79/100\n",
      "240/240 [==============================] - 1s 2ms/step - loss: 190083.7031\n",
      "Epoch 80/100\n",
      "240/240 [==============================] - 0s 2ms/step - loss: 189875.0156\n",
      "Epoch 81/100\n",
      "240/240 [==============================] - 0s 2ms/step - loss: 189666.6562\n",
      "Epoch 82/100\n",
      "240/240 [==============================] - 1s 2ms/step - loss: 189458.2500\n",
      "Epoch 83/100\n",
      "240/240 [==============================] - 1s 2ms/step - loss: 189250.0312\n",
      "Epoch 84/100\n",
      "240/240 [==============================] - 0s 2ms/step - loss: 189041.8906\n",
      "Epoch 85/100\n",
      "240/240 [==============================] - 0s 2ms/step - loss: 188833.7656\n",
      "Epoch 86/100\n",
      "240/240 [==============================] - 0s 2ms/step - loss: 188626.0312\n",
      "Epoch 87/100\n",
      "240/240 [==============================] - 0s 2ms/step - loss: 188418.1875\n",
      "Epoch 88/100\n",
      "240/240 [==============================] - 0s 2ms/step - loss: 188210.6250\n",
      "Epoch 89/100\n",
      "240/240 [==============================] - 0s 2ms/step - loss: 188003.0781\n",
      "Epoch 90/100\n",
      "240/240 [==============================] - 0s 2ms/step - loss: 187795.6719\n",
      "Epoch 91/100\n",
      "240/240 [==============================] - 0s 2ms/step - loss: 187588.3281\n",
      "Epoch 92/100\n",
      "240/240 [==============================] - 0s 2ms/step - loss: 187381.1094\n",
      "Epoch 93/100\n",
      "240/240 [==============================] - 0s 2ms/step - loss: 187174.0312\n"
     ]
    },
    {
     "name": "stdout",
     "output_type": "stream",
     "text": [
      "Epoch 94/100\n",
      "240/240 [==============================] - 0s 2ms/step - loss: 186967.0469\n",
      "Epoch 95/100\n",
      "240/240 [==============================] - 0s 2ms/step - loss: 186760.2500\n",
      "Epoch 96/100\n",
      "240/240 [==============================] - 0s 2ms/step - loss: 186553.4375\n",
      "Epoch 97/100\n",
      "240/240 [==============================] - 1s 2ms/step - loss: 186346.8125\n",
      "Epoch 98/100\n",
      "240/240 [==============================] - 0s 2ms/step - loss: 186140.3750\n",
      "Epoch 99/100\n",
      "240/240 [==============================] - 0s 2ms/step - loss: 185933.9844\n",
      "Epoch 100/100\n",
      "240/240 [==============================] - 0s 2ms/step - loss: 185727.6562\n"
     ]
    },
    {
     "data": {
      "text/plain": [
       "<keras.callbacks.History at 0x1c34a972ca0>"
      ]
     },
     "execution_count": 11,
     "metadata": {},
     "output_type": "execute_result"
    }
   ],
   "source": [
    "ann.fit(X_train, y_train, batch_size=32, epochs=100)"
   ]
  },
  {
   "cell_type": "markdown",
   "id": "1f681afa",
   "metadata": {},
   "source": [
    "### Predicting the results of the Test set"
   ]
  },
  {
   "cell_type": "code",
   "execution_count": 12,
   "id": "e3585e40",
   "metadata": {},
   "outputs": [
    {
     "name": "stdout",
     "output_type": "stream",
     "text": [
      "[[ 23.8  431.23]\n",
      " [ 23.8  460.01]\n",
      " [ 23.8  461.14]\n",
      " ...\n",
      " [ 23.8  473.26]\n",
      " [ 23.8  438.  ]\n",
      " [ 23.8  463.28]]\n"
     ]
    }
   ],
   "source": [
    "y_pred = ann.predict(X_test)\n",
    "np.set_printoptions(precision=2)\n",
    "print(np.concatenate((y_pred.reshape(len(y_pred),1), y_test.reshape(len(y_test),1)),1))"
   ]
  },
  {
   "cell_type": "markdown",
   "id": "de9e7789",
   "metadata": {},
   "source": [
    "**References:**\n",
    "- Data set source: https://archive.ics.uci.edu/ml/datasets/combined+cycle+power+plant# (2021-12-17)\n",
    "- From free Udemy course: [Artificial Neural Network for Regression](https://www.udemy.com/course/linear-regression-with-artificial-neural-network/)"
   ]
  },
  {
   "cell_type": "code",
   "execution_count": null,
   "id": "9fc5d832",
   "metadata": {},
   "outputs": [],
   "source": []
  }
 ],
 "metadata": {
  "kernelspec": {
   "display_name": "Python 3 (ipykernel)",
   "language": "python",
   "name": "python3"
  },
  "language_info": {
   "codemirror_mode": {
    "name": "ipython",
    "version": 3
   },
   "file_extension": ".py",
   "mimetype": "text/x-python",
   "name": "python",
   "nbconvert_exporter": "python",
   "pygments_lexer": "ipython3",
   "version": "3.9.7"
  }
 },
 "nbformat": 4,
 "nbformat_minor": 5
}
